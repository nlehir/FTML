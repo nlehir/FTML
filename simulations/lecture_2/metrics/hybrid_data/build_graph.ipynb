{
 "cells": [
  {
   "cell_type": "code",
   "execution_count": 1,
   "metadata": {},
   "outputs": [],
   "source": [
    "import math\n",
    "\n",
    "import matplotlib.pyplot as plt\n",
    "import numpy as np\n",
    "import pandas as pd\n",
    "import pylab as pl\n",
    "from graphviz import Graph\n",
    "from IPython import display"
   ]
  },
  {
   "cell_type": "code",
   "execution_count": 2,
   "metadata": {},
   "outputs": [],
   "source": [
    "dataframe = pd.read_csv(\"csv_files/complex_data.csv\")"
   ]
  },
  {
   "cell_type": "code",
   "execution_count": 3,
   "metadata": {},
   "outputs": [
    {
     "data": {
      "text/html": [
       "<div>\n",
       "<style scoped>\n",
       "    .dataframe tbody tr th:only-of-type {\n",
       "        vertical-align: middle;\n",
       "    }\n",
       "\n",
       "    .dataframe tbody tr th {\n",
       "        vertical-align: top;\n",
       "    }\n",
       "\n",
       "    .dataframe thead th {\n",
       "        text-align: right;\n",
       "    }\n",
       "</style>\n",
       "<table border=\"1\" class=\"dataframe\">\n",
       "  <thead>\n",
       "    <tr style=\"text-align: right;\">\n",
       "      <th></th>\n",
       "      <th>Name</th>\n",
       "      <th>Fifa note</th>\n",
       "      <th>speed</th>\n",
       "      <th>favorite meal</th>\n",
       "    </tr>\n",
       "  </thead>\n",
       "  <tbody>\n",
       "    <tr>\n",
       "      <th>0</th>\n",
       "      <td>Toni Kroos</td>\n",
       "      <td>90</td>\n",
       "      <td>80</td>\n",
       "      <td>pasta</td>\n",
       "    </tr>\n",
       "    <tr>\n",
       "      <th>1</th>\n",
       "      <td>David De Gea</td>\n",
       "      <td>91</td>\n",
       "      <td>70</td>\n",
       "      <td>fries</td>\n",
       "    </tr>\n",
       "    <tr>\n",
       "      <th>2</th>\n",
       "      <td>Sergio Ramos</td>\n",
       "      <td>91</td>\n",
       "      <td>75</td>\n",
       "      <td>pasta</td>\n",
       "    </tr>\n",
       "    <tr>\n",
       "      <th>3</th>\n",
       "      <td>Kikyan Mbappé</td>\n",
       "      <td>100</td>\n",
       "      <td>100</td>\n",
       "      <td>fries</td>\n",
       "    </tr>\n",
       "    <tr>\n",
       "      <th>4</th>\n",
       "      <td>Mohammed Salah</td>\n",
       "      <td>88</td>\n",
       "      <td>95</td>\n",
       "      <td>pasta</td>\n",
       "    </tr>\n",
       "    <tr>\n",
       "      <th>5</th>\n",
       "      <td>Mats Hummels</td>\n",
       "      <td>89</td>\n",
       "      <td>73</td>\n",
       "      <td>vegetables</td>\n",
       "    </tr>\n",
       "  </tbody>\n",
       "</table>\n",
       "</div>"
      ],
      "text/plain": [
       "             Name  Fifa note  speed favorite meal\n",
       "0      Toni Kroos         90     80         pasta\n",
       "1    David De Gea         91     70         fries\n",
       "2    Sergio Ramos         91     75         pasta\n",
       "3   Kikyan Mbappé        100    100         fries\n",
       "4  Mohammed Salah         88     95         pasta\n",
       "5    Mats Hummels         89     73    vegetables"
      ]
     },
     "execution_count": 3,
     "metadata": {},
     "output_type": "execute_result"
    }
   ],
   "source": [
    "dataframe"
   ]
  },
  {
   "cell_type": "code",
   "execution_count": 4,
   "metadata": {},
   "outputs": [
    {
     "name": "stdout",
     "output_type": "stream",
     "text": [
      "6\n"
     ]
    }
   ],
   "source": [
    "nb_players = len(dataframe.index)\n",
    "print(nb_players)"
   ]
  },
  {
   "cell_type": "code",
   "execution_count": 5,
   "metadata": {},
   "outputs": [
    {
     "name": "stdout",
     "output_type": "stream",
     "text": [
      "<class 'pandas.core.frame.DataFrame'>\n",
      "RangeIndex: 6 entries, 0 to 5\n",
      "Data columns (total 4 columns):\n",
      " #   Column         Non-Null Count  Dtype \n",
      "---  ------         --------------  ----- \n",
      " 0   Name           6 non-null      object\n",
      " 1   Fifa note      6 non-null      int64 \n",
      " 2   speed          6 non-null      int64 \n",
      " 3   favorite meal  6 non-null      object\n",
      "dtypes: int64(2), object(2)\n",
      "memory usage: 324.0+ bytes\n",
      "None\n"
     ]
    }
   ],
   "source": [
    "print(dataframe.info())"
   ]
  },
  {
   "cell_type": "code",
   "execution_count": 6,
   "metadata": {},
   "outputs": [
    {
     "name": "stdout",
     "output_type": "stream",
     "text": [
      "Index(['Name', 'Fifa note', 'speed', 'favorite meal'], dtype='object')\n"
     ]
    }
   ],
   "source": [
    "print(dataframe.columns)"
   ]
  },
  {
   "cell_type": "code",
   "execution_count": 7,
   "metadata": {},
   "outputs": [
    {
     "name": "stdout",
     "output_type": "stream",
     "text": [
      "             Name  Fifa note  speed favorite meal\n",
      "0      Toni Kroos         90     80         pasta\n",
      "1    David De Gea         91     70         fries\n",
      "2    Sergio Ramos         91     75         pasta\n",
      "3   Kikyan Mbappé        100    100         fries\n",
      "4  Mohammed Salah         88     95         pasta\n",
      "5    Mats Hummels         89     73    vegetables\n"
     ]
    }
   ],
   "source": [
    "print(dataframe.head(10))"
   ]
  },
  {
   "cell_type": "code",
   "execution_count": 8,
   "metadata": {},
   "outputs": [
    {
     "name": "stdout",
     "output_type": "stream",
     "text": [
      "---\n",
      "all information on player 1\n",
      "---\n",
      "Name             David De Gea\n",
      "Fifa note                  91\n",
      "speed                      70\n",
      "favorite meal           fries\n",
      "Name: 1, dtype: object\n"
     ]
    }
   ],
   "source": [
    "player_id = 1\n",
    "print(f\"---\\nall information on player {player_id}\\n---\")\n",
    "print(dataframe.loc[player_id])"
   ]
  },
  {
   "cell_type": "code",
   "execution_count": 9,
   "metadata": {},
   "outputs": [],
   "source": [
    "def compute_dissimilarity(player_1_id, player_2_id):\n",
    "    \"\"\"\n",
    "    Compute  dissimilarity betwwen two players\n",
    "    based on their id.\n",
    "\n",
    "    The meal is not a quantitative attribute.\n",
    "    It is called a categorical variable.\n",
    "    We must handle it differently than quantitative\n",
    "    attributes.\n",
    "    \"\"\"\n",
    "    player_1_note = dataframe.loc[player_1_id][1]\n",
    "    player_2_note = dataframe.loc[player_2_id][1]\n",
    "\n",
    "    player_1_speed = dataframe.loc[player_1_id][2]\n",
    "    player_2_speed = dataframe.loc[player_2_id][2]\n",
    "\n",
    "    player_1_meal = dataframe.loc[player_1_id][3]\n",
    "    player_2_meal = dataframe.loc[player_2_id][3]\n",
    "\n",
    "    if player_1_meal == player_2_meal:\n",
    "        dissimilarity_meal = 0\n",
    "    else:\n",
    "        dissimilarity_meal = 1\n",
    "\n",
    "    # EDIT HERE\n",
    "    dissimilarity = math.sqrt(\n",
    "        (player_1_note - player_2_note) ** 2\n",
    "        + (player_1_speed - player_2_speed) ** 2\n",
    "        + dissimilarity_meal\n",
    "    )\n",
    "\n",
    "    print(\"----\")\n",
    "    player_1_name = dataframe.loc[player_1_id][\"Name\"]\n",
    "    player_2_name = dataframe.loc[player_2_id][\"Name\"]\n",
    "    print(\n",
    "        f\"plyr 1 {player_1_name}, plyr 2 {player_2_name}, dissimilarity: {dissimilarity}\"\n",
    "    )\n",
    "    return dissimilarity"
   ]
  },
  {
   "cell_type": "code",
   "execution_count": 10,
   "metadata": {},
   "outputs": [
    {
     "name": "stdout",
     "output_type": "stream",
     "text": [
      "compute dissimilarities\n",
      "----\n",
      "plyr 1 Toni Kroos, plyr 2 Toni Kroos, dissimilarity: 0.0\n",
      "----\n",
      "plyr 1 Toni Kroos, plyr 2 David De Gea, dissimilarity: 10.099504938362077\n",
      "----\n",
      "plyr 1 Toni Kroos, plyr 2 Sergio Ramos, dissimilarity: 5.0990195135927845\n",
      "----\n",
      "plyr 1 Toni Kroos, plyr 2 Kikyan Mbappé, dissimilarity: 22.38302928559939\n",
      "----\n",
      "plyr 1 Toni Kroos, plyr 2 Mohammed Salah, dissimilarity: 15.132745950421556\n",
      "----\n",
      "plyr 1 Toni Kroos, plyr 2 Mats Hummels, dissimilarity: 7.14142842854285\n",
      "----\n",
      "plyr 1 David De Gea, plyr 2 Toni Kroos, dissimilarity: 10.099504938362077\n",
      "----\n",
      "plyr 1 David De Gea, plyr 2 David De Gea, dissimilarity: 0.0\n",
      "----\n",
      "plyr 1 David De Gea, plyr 2 Sergio Ramos, dissimilarity: 5.0990195135927845\n",
      "----\n",
      "plyr 1 David De Gea, plyr 2 Kikyan Mbappé, dissimilarity: 31.32091952673165\n",
      "----\n",
      "plyr 1 David De Gea, plyr 2 Mohammed Salah, dissimilarity: 25.199206336708304\n",
      "----\n",
      "plyr 1 David De Gea, plyr 2 Mats Hummels, dissimilarity: 3.7416573867739413\n",
      "----\n",
      "plyr 1 Sergio Ramos, plyr 2 Toni Kroos, dissimilarity: 5.0990195135927845\n",
      "----\n",
      "plyr 1 Sergio Ramos, plyr 2 David De Gea, dissimilarity: 5.0990195135927845\n",
      "----\n",
      "plyr 1 Sergio Ramos, plyr 2 Sergio Ramos, dissimilarity: 0.0\n",
      "----\n",
      "plyr 1 Sergio Ramos, plyr 2 Kikyan Mbappé, dissimilarity: 26.589471600616662\n",
      "----\n",
      "plyr 1 Sergio Ramos, plyr 2 Mohammed Salah, dissimilarity: 20.223748416156685\n",
      "----\n",
      "plyr 1 Sergio Ramos, plyr 2 Mats Hummels, dissimilarity: 3.0\n",
      "----\n",
      "plyr 1 Kikyan Mbappé, plyr 2 Toni Kroos, dissimilarity: 22.38302928559939\n",
      "----\n",
      "plyr 1 Kikyan Mbappé, plyr 2 David De Gea, dissimilarity: 31.32091952673165\n",
      "----\n",
      "plyr 1 Kikyan Mbappé, plyr 2 Sergio Ramos, dissimilarity: 26.589471600616662\n",
      "----\n",
      "plyr 1 Kikyan Mbappé, plyr 2 Kikyan Mbappé, dissimilarity: 0.0\n",
      "----\n",
      "plyr 1 Kikyan Mbappé, plyr 2 Mohammed Salah, dissimilarity: 13.038404810405298\n",
      "----\n",
      "plyr 1 Kikyan Mbappé, plyr 2 Mats Hummels, dissimilarity: 29.171904291629644\n",
      "----\n",
      "plyr 1 Mohammed Salah, plyr 2 Toni Kroos, dissimilarity: 15.132745950421556\n",
      "----\n",
      "plyr 1 Mohammed Salah, plyr 2 David De Gea, dissimilarity: 25.199206336708304\n",
      "----\n",
      "plyr 1 Mohammed Salah, plyr 2 Sergio Ramos, dissimilarity: 20.223748416156685\n",
      "----\n",
      "plyr 1 Mohammed Salah, plyr 2 Kikyan Mbappé, dissimilarity: 13.038404810405298\n",
      "----\n",
      "plyr 1 Mohammed Salah, plyr 2 Mohammed Salah, dissimilarity: 0.0\n",
      "----\n",
      "plyr 1 Mohammed Salah, plyr 2 Mats Hummels, dissimilarity: 22.045407685048602\n",
      "----\n",
      "plyr 1 Mats Hummels, plyr 2 Toni Kroos, dissimilarity: 7.14142842854285\n",
      "----\n",
      "plyr 1 Mats Hummels, plyr 2 David De Gea, dissimilarity: 3.7416573867739413\n",
      "----\n",
      "plyr 1 Mats Hummels, plyr 2 Sergio Ramos, dissimilarity: 3.0\n",
      "----\n",
      "plyr 1 Mats Hummels, plyr 2 Kikyan Mbappé, dissimilarity: 29.171904291629644\n",
      "----\n",
      "plyr 1 Mats Hummels, plyr 2 Mohammed Salah, dissimilarity: 22.045407685048602\n",
      "----\n",
      "plyr 1 Mats Hummels, plyr 2 Mats Hummels, dissimilarity: 0.0\n",
      "dissimilarity matrix\n",
      "[[ 0.         10.09950494  5.09901951 22.38302929 15.13274595  7.14142843]\n",
      " [10.09950494  0.          5.09901951 31.32091953 25.19920634  3.74165739]\n",
      " [ 5.09901951  5.09901951  0.         26.5894716  20.22374842  3.        ]\n",
      " [22.38302929 31.32091953 26.5894716   0.         13.03840481 29.17190429]\n",
      " [15.13274595 25.19920634 20.22374842 13.03840481  0.         22.04540769]\n",
      " [ 7.14142843  3.74165739  3.         29.17190429 22.04540769  0.        ]]\n"
     ]
    }
   ],
   "source": [
    "# build a dissimilarity matrix\n",
    "dissimilarity_matrix = np.zeros((nb_players, nb_players))\n",
    "print(\"compute dissimilarities\")\n",
    "for player_1_id in range(nb_players):\n",
    "    for player_2_id in range(nb_players):\n",
    "        dissimilarity = compute_dissimilarity(player_1_id, player_2_id)\n",
    "        dissimilarity_matrix[player_1_id, player_2_id] = dissimilarity\n",
    "\n",
    "print(\"dissimilarity matrix\")\n",
    "print(dissimilarity_matrix)"
   ]
  },
  {
   "cell_type": "code",
   "execution_count": 11,
   "metadata": {},
   "outputs": [
    {
     "data": {
      "text/plain": [
       "'images/complex_data_threshold_3.pdf'"
      ]
     },
     "execution_count": 11,
     "metadata": {},
     "output_type": "execute_result"
    }
   ],
   "source": [
    "threshold = 3\n",
    "# build a graph from the dissimilarity\n",
    "dot = Graph(comment=\"Graph created from complex data\", strict=True)\n",
    "for player_id in range(nb_players):\n",
    "    player_name = dataframe.loc[player_id][0]\n",
    "    dot.node(player_name)\n",
    "\n",
    "for player_1_id in range(nb_players):\n",
    "    # we use an undirected graph so we do not need\n",
    "    # to take the potential reciprocal edge\n",
    "    # into account\n",
    "    for player_2_id in range(nb_players):\n",
    "        # no self loops\n",
    "        if not player_1_id == player_2_id:\n",
    "            player_1_name = dataframe.loc[player_1_id][0]\n",
    "            player_2_name = dataframe.loc[player_2_id][0]\n",
    "            # use the threshold condition\n",
    "            if dissimilarity_matrix[player_1_id, player_2_id] > threshold:\n",
    "                dot.edge(\n",
    "                    player_1_name,\n",
    "                    player_2_name,\n",
    "                    color=\"darkolivegreen4\",\n",
    "                    penwidth=\"1.1\",\n",
    "                )\n",
    "\n",
    "# visualize the graph\n",
    "dot.attr(label=f\"threshold {threshold}\", fontsize=\"20\")\n",
    "graph_name = f\"images/complex_data_threshold_{threshold}\"\n",
    "dot.render(graph_name)"
   ]
  },
  {
   "cell_type": "code",
   "execution_count": 12,
   "metadata": {},
   "outputs": [
    {
     "data": {
      "image/svg+xml": [
       "<?xml version=\"1.0\" encoding=\"UTF-8\" standalone=\"no\"?>\n",
       "<!DOCTYPE svg PUBLIC \"-//W3C//DTD SVG 1.1//EN\"\n",
       " \"http://www.w3.org/Graphics/SVG/1.1/DTD/svg11.dtd\">\n",
       "<!-- Generated by graphviz version 8.1.0 (20230707.0739)\n",
       " -->\n",
       "<!-- Pages: 1 -->\n",
       "<svg width=\"355pt\" height=\"435pt\"\n",
       " viewBox=\"0.00 0.00 354.89 434.50\" xmlns=\"http://www.w3.org/2000/svg\" xmlns:xlink=\"http://www.w3.org/1999/xlink\">\n",
       "<g id=\"graph0\" class=\"graph\" transform=\"scale(1 1) rotate(0) translate(4 430.5)\">\n",
       "<polygon fill=\"white\" stroke=\"none\" points=\"-4,4 -4,-430.5 350.89,-430.5 350.89,4 -4,4\"/>\n",
       "<text text-anchor=\"middle\" x=\"173.45\" y=\"-7.5\" font-family=\"Times,serif\" font-size=\"20.00\">threshold 3</text>\n",
       "<!-- Toni Kroos -->\n",
       "<g id=\"node1\" class=\"node\">\n",
       "<title>Toni Kroos</title>\n",
       "<ellipse fill=\"none\" stroke=\"black\" cx=\"146\" cy=\"-408.5\" rx=\"53.4\" ry=\"18\"/>\n",
       "<text text-anchor=\"middle\" x=\"146\" y=\"-403.45\" font-family=\"Times,serif\" font-size=\"14.00\">Toni Kroos</text>\n",
       "</g>\n",
       "<!-- David De Gea -->\n",
       "<g id=\"node2\" class=\"node\">\n",
       "<title>David De Gea</title>\n",
       "<ellipse fill=\"none\" stroke=\"black\" cx=\"146\" cy=\"-336.5\" rx=\"64.15\" ry=\"18\"/>\n",
       "<text text-anchor=\"middle\" x=\"146\" y=\"-331.45\" font-family=\"Times,serif\" font-size=\"14.00\">David De Gea</text>\n",
       "</g>\n",
       "<!-- Toni Kroos&#45;&#45;David De Gea -->\n",
       "<g id=\"edge1\" class=\"edge\">\n",
       "<title>Toni Kroos&#45;&#45;David De Gea</title>\n",
       "<path fill=\"none\" stroke=\"#6e8b3d\" stroke-width=\"1.1\" d=\"M146,-390.2C146,-379.35 146,-365.42 146,-354.6\"/>\n",
       "</g>\n",
       "<!-- Sergio Ramos -->\n",
       "<g id=\"node3\" class=\"node\">\n",
       "<title>Sergio Ramos</title>\n",
       "<ellipse fill=\"none\" stroke=\"black\" cx=\"267\" cy=\"-264.5\" rx=\"63.63\" ry=\"18\"/>\n",
       "<text text-anchor=\"middle\" x=\"267\" y=\"-259.45\" font-family=\"Times,serif\" font-size=\"14.00\">Sergio Ramos</text>\n",
       "</g>\n",
       "<!-- Toni Kroos&#45;&#45;Sergio Ramos -->\n",
       "<g id=\"edge2\" class=\"edge\">\n",
       "<title>Toni Kroos&#45;&#45;Sergio Ramos</title>\n",
       "<path fill=\"none\" stroke=\"#6e8b3d\" stroke-width=\"1.1\" d=\"M172.25,-392.54C187.27,-383.05 205.7,-369.71 219,-354.5 238.19,-332.57 252.67,-301.66 260.49,-282.63\"/>\n",
       "</g>\n",
       "<!-- Kikyan Mbappé -->\n",
       "<g id=\"node4\" class=\"node\">\n",
       "<title>Kikyan Mbappé</title>\n",
       "<ellipse fill=\"none\" stroke=\"black\" cx=\"137\" cy=\"-192.5\" rx=\"71.31\" ry=\"18\"/>\n",
       "<text text-anchor=\"middle\" x=\"137\" y=\"-187.45\" font-family=\"Times,serif\" font-size=\"14.00\">Kikyan Mbappé</text>\n",
       "</g>\n",
       "<!-- Toni Kroos&#45;&#45;Kikyan Mbappé -->\n",
       "<g id=\"edge3\" class=\"edge\">\n",
       "<title>Toni Kroos&#45;&#45;Kikyan Mbappé</title>\n",
       "<path fill=\"none\" stroke=\"#6e8b3d\" stroke-width=\"1.1\" d=\"M114.82,-393.56C99.22,-384.78 81.82,-371.8 73,-354.5 47.18,-303.85 94.37,-240.23 120.84,-210.4\"/>\n",
       "</g>\n",
       "<!-- Mohammed Salah -->\n",
       "<g id=\"node5\" class=\"node\">\n",
       "<title>Mohammed Salah</title>\n",
       "<ellipse fill=\"none\" stroke=\"black\" cx=\"236\" cy=\"-120.5\" rx=\"80.01\" ry=\"18\"/>\n",
       "<text text-anchor=\"middle\" x=\"236\" y=\"-115.45\" font-family=\"Times,serif\" font-size=\"14.00\">Mohammed Salah</text>\n",
       "</g>\n",
       "<!-- Toni Kroos&#45;&#45;Mohammed Salah -->\n",
       "<g id=\"edge4\" class=\"edge\">\n",
       "<title>Toni Kroos&#45;&#45;Mohammed Salah</title>\n",
       "<path fill=\"none\" stroke=\"#6e8b3d\" stroke-width=\"1.1\" d=\"M185,-395.87C232.2,-379.38 309.18,-344.14 340,-282.5 367.9,-226.69 299.14,-166.27 260.35,-137.93\"/>\n",
       "</g>\n",
       "<!-- Mats Hummels -->\n",
       "<g id=\"node6\" class=\"node\">\n",
       "<title>Mats Hummels</title>\n",
       "<ellipse fill=\"none\" stroke=\"black\" cx=\"70\" cy=\"-48.5\" rx=\"69.26\" ry=\"18\"/>\n",
       "<text text-anchor=\"middle\" x=\"70\" y=\"-43.45\" font-family=\"Times,serif\" font-size=\"14.00\">Mats Hummels</text>\n",
       "</g>\n",
       "<!-- Toni Kroos&#45;&#45;Mats Hummels -->\n",
       "<g id=\"edge5\" class=\"edge\">\n",
       "<title>Toni Kroos&#45;&#45;Mats Hummels</title>\n",
       "<path fill=\"none\" stroke=\"#6e8b3d\" stroke-width=\"1.1\" d=\"M113.96,-393.69C70.98,-372.75 0,-328.62 0,-265.5 0,-265.5 0,-265.5 0,-191.5 0,-142.03 34.61,-91.92 55.15,-66.53\"/>\n",
       "</g>\n",
       "<!-- David De Gea&#45;&#45;Sergio Ramos -->\n",
       "<g id=\"edge6\" class=\"edge\">\n",
       "<title>David De Gea&#45;&#45;Sergio Ramos</title>\n",
       "<path fill=\"none\" stroke=\"#6e8b3d\" stroke-width=\"1.1\" d=\"M173.15,-319.79C193.08,-308.26 220.03,-292.67 239.94,-281.16\"/>\n",
       "</g>\n",
       "<!-- David De Gea&#45;&#45;Kikyan Mbappé -->\n",
       "<g id=\"edge7\" class=\"edge\">\n",
       "<title>David De Gea&#45;&#45;Kikyan Mbappé</title>\n",
       "<path fill=\"none\" stroke=\"#6e8b3d\" stroke-width=\"1.1\" d=\"M144.9,-318.09C143.16,-290.69 139.81,-237.82 138.08,-210.61\"/>\n",
       "</g>\n",
       "<!-- David De Gea&#45;&#45;Mohammed Salah -->\n",
       "<g id=\"edge8\" class=\"edge\">\n",
       "<title>David De Gea&#45;&#45;Mohammed Salah</title>\n",
       "<path fill=\"none\" stroke=\"#6e8b3d\" stroke-width=\"1.1\" d=\"M154.83,-318.23C164.19,-300.14 179.58,-271.02 194,-246.5 203.62,-230.13 209.79,-228.07 217,-210.5 226.78,-186.67 231.81,-157.11 234.17,-138.77\"/>\n",
       "</g>\n",
       "<!-- David De Gea&#45;&#45;Mats Hummels -->\n",
       "<g id=\"edge9\" class=\"edge\">\n",
       "<title>David De Gea&#45;&#45;Mats Hummels</title>\n",
       "<path fill=\"none\" stroke=\"#6e8b3d\" stroke-width=\"1.1\" d=\"M128.8,-318.83C107.16,-296.53 71.11,-254.65 57,-210.5 40.95,-160.28 55.48,-96.99 64.34,-66.91\"/>\n",
       "</g>\n",
       "<!-- Sergio Ramos&#45;&#45;Kikyan Mbappé -->\n",
       "<g id=\"edge10\" class=\"edge\">\n",
       "<title>Sergio Ramos&#45;&#45;Kikyan Mbappé</title>\n",
       "<path fill=\"none\" stroke=\"#6e8b3d\" stroke-width=\"1.1\" d=\"M238.47,-248.14C217.09,-236.63 187.94,-220.93 166.36,-209.31\"/>\n",
       "</g>\n",
       "<!-- Sergio Ramos&#45;&#45;Mohammed Salah -->\n",
       "<g id=\"edge11\" class=\"edge\">\n",
       "<title>Sergio Ramos&#45;&#45;Mohammed Salah</title>\n",
       "<path fill=\"none\" stroke=\"#6e8b3d\" stroke-width=\"1.1\" d=\"M264.03,-246.03C260.89,-228.03 255.61,-199.2 250,-174.5 247.26,-162.44 243.69,-148.96 240.84,-138.61\"/>\n",
       "</g>\n",
       "<!-- Kikyan Mbappé&#45;&#45;Mohammed Salah -->\n",
       "<g id=\"edge12\" class=\"edge\">\n",
       "<title>Kikyan Mbappé&#45;&#45;Mohammed Salah</title>\n",
       "<path fill=\"none\" stroke=\"#6e8b3d\" stroke-width=\"1.1\" d=\"M160.21,-175.09C175.98,-163.93 196.78,-149.23 212.59,-138.05\"/>\n",
       "</g>\n",
       "<!-- Kikyan Mbappé&#45;&#45;Mats Hummels -->\n",
       "<g id=\"edge13\" class=\"edge\">\n",
       "<title>Kikyan Mbappé&#45;&#45;Mats Hummels</title>\n",
       "<path fill=\"none\" stroke=\"#6e8b3d\" stroke-width=\"1.1\" d=\"M128.92,-174.37C116.04,-147.08 91.01,-94.02 78.11,-66.69\"/>\n",
       "</g>\n",
       "<!-- Mohammed Salah&#45;&#45;Mats Hummels -->\n",
       "<g id=\"edge14\" class=\"edge\">\n",
       "<title>Mohammed Salah&#45;&#45;Mats Hummels</title>\n",
       "<path fill=\"none\" stroke=\"#6e8b3d\" stroke-width=\"1.1\" d=\"M199.57,-104.14C171.51,-92.31 132.95,-76.05 105.21,-64.35\"/>\n",
       "</g>\n",
       "</g>\n",
       "</svg>\n"
      ],
      "text/plain": [
       "<graphviz.graphs.Graph at 0x1654cdc50>"
      ]
     },
     "execution_count": 12,
     "metadata": {},
     "output_type": "execute_result"
    }
   ],
   "source": [
    "dot"
   ]
  }
 ],
 "metadata": {
  "kernelspec": {
   "display_name": "Python 3 (ipykernel)",
   "language": "python",
   "name": "python3"
  },
  "language_info": {
   "codemirror_mode": {
    "name": "ipython",
    "version": 3
   },
   "file_extension": ".py",
   "mimetype": "text/x-python",
   "name": "python",
   "nbconvert_exporter": "python",
   "pygments_lexer": "ipython3",
   "version": "3.11.7"
  }
 },
 "nbformat": 4,
 "nbformat_minor": 4
}
