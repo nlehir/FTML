{
 "cells": [
  {
   "cell_type": "markdown",
   "metadata": {},
   "source": [
    "## Examples of numpy arrays\n",
    "\n",
    "https://numpy.org/\n",
    "\n",
    "#### 0) Import the numpy module and use a shorter namespace"
   ]
  },
  {
   "cell_type": "code",
   "execution_count": 2,
   "metadata": {},
   "outputs": [],
   "source": [
    "import numpy as np"
   ]
  },
  {
   "cell_type": "markdown",
   "metadata": {},
   "source": [
    "#### 1a) Print the help of **numpy.random** with help(np.random)"
   ]
  },
  {
   "cell_type": "code",
   "execution_count": null,
   "metadata": {},
   "outputs": [],
   "source": [
    "help(np.random)"
   ]
  },
  {
   "cell_type": "markdown",
   "metadata": {},
   "source": [
    "#### 1b) With shift + tab, you can display a short help of a method, such as **np.random.uniform**"
   ]
  },
  {
   "cell_type": "code",
   "execution_count": 4,
   "metadata": {},
   "outputs": [
    {
     "data": {
      "text/plain": [
       "<function RandomState.uniform>"
      ]
     },
     "execution_count": 4,
     "metadata": {},
     "output_type": "execute_result"
    }
   ],
   "source": [
    "np.random.uniform"
   ]
  },
  {
   "cell_type": "markdown",
   "metadata": {},
   "source": [
    "#### 1c) Actually now the recommended way to generate pseudo random numbers is to use default_rng()"
   ]
  },
  {
   "cell_type": "code",
   "execution_count": 17,
   "metadata": {},
   "outputs": [],
   "source": [
    "rng = np.random.default_rng()"
   ]
  },
  {
   "cell_type": "code",
   "execution_count": 18,
   "metadata": {},
   "outputs": [
    {
     "data": {
      "text/plain": [
       "Generator(PCG64) at 0x1123C0D60"
      ]
     },
     "execution_count": 18,
     "metadata": {},
     "output_type": "execute_result"
    }
   ],
   "source": [
    "rng"
   ]
  },
  {
   "cell_type": "code",
   "execution_count": 20,
   "metadata": {},
   "outputs": [
    {
     "data": {
      "text/plain": [
       "array([1.37425677, 1.19348264])"
      ]
     },
     "execution_count": 20,
     "metadata": {},
     "output_type": "execute_result"
    }
   ],
   "source": [
    "rng.normal(loc=1, scale=0.1, size=2)"
   ]
  },
  {
   "cell_type": "markdown",
   "metadata": {},
   "source": [
    "#### 2) Create an array containing only 0s with shape (5,5)"
   ]
  },
  {
   "cell_type": "code",
   "execution_count": 5,
   "metadata": {},
   "outputs": [
    {
     "name": "stdout",
     "output_type": "stream",
     "text": [
      "[[0. 0. 0. 0. 0.]\n",
      " [0. 0. 0. 0. 0.]\n",
      " [0. 0. 0. 0. 0.]\n",
      " [0. 0. 0. 0. 0.]\n",
      " [0. 0. 0. 0. 0.]]\n"
     ]
    }
   ],
   "source": [
    "array = np.zeros((5, 5))\n",
    "print(array)"
   ]
  },
  {
   "cell_type": "markdown",
   "metadata": {},
   "source": [
    "#### 3) Get the shape of this array"
   ]
  },
  {
   "cell_type": "code",
   "execution_count": 6,
   "metadata": {},
   "outputs": [
    {
     "name": "stdout",
     "output_type": "stream",
     "text": [
      "(5, 5)\n",
      "5 lines\n",
      "5 columns\n"
     ]
    }
   ],
   "source": [
    "shape = array.shape\n",
    "nb_lines = array.shape[0]\n",
    "nb_columns = array.shape[1]\n",
    "print(shape)\n",
    "print(f\"{nb_lines} lines\")\n",
    "print(f\"{nb_columns} columns\")"
   ]
  },
  {
   "cell_type": "markdown",
   "metadata": {},
   "source": [
    "#### 4) Fill the array with random values, uniformly distributed between -1 and 1, using a loop, using **numpy.random.uniform()**\n",
    "\n",
    "https://numpy.org/doc/stable/reference/random/generated/numpy.random.uniform.html"
   ]
  },
  {
   "cell_type": "code",
   "execution_count": 7,
   "metadata": {},
   "outputs": [
    {
     "name": "stdout",
     "output_type": "stream",
     "text": [
      "[[-0.74693355 -0.10638253  0.4649812   0.59214558  0.51838874]\n",
      " [-0.06236302  0.89470756 -0.11562676 -0.59900333 -0.59542643]\n",
      " [-0.84908841  0.65265554  0.29262484 -0.15338692  0.35807633]\n",
      " [-0.07477356 -0.46035035 -0.49171397  0.40315821 -0.16670348]\n",
      " [-0.01761602 -0.4882725   0.80710765 -0.1533598  -0.27758324]]\n"
     ]
    }
   ],
   "source": [
    "for line in range(nb_lines):\n",
    "    for column in range(nb_columns):\n",
    "        array[line, column] = np.random.uniform(-1, 1)\n",
    "print(array)"
   ]
  },
  {
   "cell_type": "markdown",
   "metadata": {},
   "source": [
    "#### 5) Rebuild an (5,5) random array with unifomly distributed values, using only **np.random.uniform()**"
   ]
  },
  {
   "cell_type": "code",
   "execution_count": 8,
   "metadata": {},
   "outputs": [
    {
     "name": "stdout",
     "output_type": "stream",
     "text": [
      "[[ 0.57984073 -0.66444735  0.7565499  -0.35768452 -0.90102745]\n",
      " [ 0.57544169 -0.3345059  -0.65695171 -0.12565513  0.92711961]\n",
      " [-0.0713363  -0.54624702 -0.98491495 -0.65518125  0.6914869 ]\n",
      " [-0.3329462   0.23376517 -0.56209023  0.69495116 -0.08627314]\n",
      " [-0.59700109 -0.99797972 -0.7238925   0.76274489  0.68910342]\n",
      " [ 0.0661348  -0.43540481  0.68878143  0.16023813 -0.88179454]\n",
      " [-0.81913696  0.87040434 -0.05695227  0.60965913  0.84154839]\n",
      " [ 0.3961454   0.69399415  0.61213574  0.44438531 -0.26660797]]\n"
     ]
    }
   ],
   "source": [
    "array = np.random.uniform(-1, 1, (8, 5))\n",
    "print(array)"
   ]
  },
  {
   "cell_type": "markdown",
   "metadata": {},
   "source": [
    "#### 6) Transpose the array, with **numpy.transpose()**\n",
    "https://numpy.org/doc/stable/reference/generated/numpy.transpose.html"
   ]
  },
  {
   "cell_type": "code",
   "execution_count": 9,
   "metadata": {},
   "outputs": [
    {
     "data": {
      "text/plain": [
       "array([[ 0.57984073,  0.57544169, -0.0713363 , -0.3329462 , -0.59700109,\n",
       "         0.0661348 , -0.81913696,  0.3961454 ],\n",
       "       [-0.66444735, -0.3345059 , -0.54624702,  0.23376517, -0.99797972,\n",
       "        -0.43540481,  0.87040434,  0.69399415],\n",
       "       [ 0.7565499 , -0.65695171, -0.98491495, -0.56209023, -0.7238925 ,\n",
       "         0.68878143, -0.05695227,  0.61213574],\n",
       "       [-0.35768452, -0.12565513, -0.65518125,  0.69495116,  0.76274489,\n",
       "         0.16023813,  0.60965913,  0.44438531],\n",
       "       [-0.90102745,  0.92711961,  0.6914869 , -0.08627314,  0.68910342,\n",
       "        -0.88179454,  0.84154839, -0.26660797]])"
      ]
     },
     "execution_count": 9,
     "metadata": {},
     "output_type": "execute_result"
    }
   ],
   "source": [
    "np.transpose(array)"
   ]
  },
  {
   "cell_type": "markdown",
   "metadata": {},
   "source": [
    "#### 6b) Actually it is faster to write it like that"
   ]
  },
  {
   "cell_type": "code",
   "execution_count": 10,
   "metadata": {},
   "outputs": [
    {
     "data": {
      "text/plain": [
       "array([[ 0.57984073,  0.57544169, -0.0713363 , -0.3329462 , -0.59700109,\n",
       "         0.0661348 , -0.81913696,  0.3961454 ],\n",
       "       [-0.66444735, -0.3345059 , -0.54624702,  0.23376517, -0.99797972,\n",
       "        -0.43540481,  0.87040434,  0.69399415],\n",
       "       [ 0.7565499 , -0.65695171, -0.98491495, -0.56209023, -0.7238925 ,\n",
       "         0.68878143, -0.05695227,  0.61213574],\n",
       "       [-0.35768452, -0.12565513, -0.65518125,  0.69495116,  0.76274489,\n",
       "         0.16023813,  0.60965913,  0.44438531],\n",
       "       [-0.90102745,  0.92711961,  0.6914869 , -0.08627314,  0.68910342,\n",
       "        -0.88179454,  0.84154839, -0.26660797]])"
      ]
     },
     "execution_count": 10,
     "metadata": {},
     "output_type": "execute_result"
    }
   ],
   "source": [
    "array.T"
   ]
  },
  {
   "cell_type": "markdown",
   "metadata": {},
   "source": [
    "#### 7) Build an boolean array, of the same shape, containing **True** if the entry of **array** is non-negative, **False** otherwise."
   ]
  },
  {
   "cell_type": "code",
   "execution_count": 11,
   "metadata": {},
   "outputs": [
    {
     "data": {
      "text/plain": [
       "array([[ True, False,  True, False, False],\n",
       "       [ True, False, False, False,  True],\n",
       "       [False, False, False, False,  True],\n",
       "       [False,  True, False,  True, False],\n",
       "       [False, False, False,  True,  True],\n",
       "       [ True, False,  True,  True, False],\n",
       "       [False,  True, False,  True,  True],\n",
       "       [ True,  True,  True,  True, False]])"
      ]
     },
     "execution_count": 11,
     "metadata": {},
     "output_type": "execute_result"
    }
   ],
   "source": [
    "array >= 0"
   ]
  },
  {
   "cell_type": "markdown",
   "metadata": {},
   "source": [
    "#### 8) Get the indexes where the array is positive, using **np.where()**"
   ]
  },
  {
   "cell_type": "code",
   "execution_count": 12,
   "metadata": {},
   "outputs": [
    {
     "data": {
      "text/plain": [
       "(array([0, 0, 1, 1, 2, 3, 3, 4, 4, 5, 5, 5, 6, 6, 6, 7, 7, 7, 7]),\n",
       " array([0, 2, 0, 4, 4, 1, 3, 3, 4, 0, 2, 3, 1, 3, 4, 0, 1, 2, 3]))"
      ]
     },
     "execution_count": 12,
     "metadata": {},
     "output_type": "execute_result"
    }
   ],
   "source": [
    "np.where(array >= 0)"
   ]
  },
  {
   "cell_type": "markdown",
   "metadata": {},
   "source": [
    "#### 10) Compute the sum of the elements in the second line, using the method **numpy.sum()**"
   ]
  },
  {
   "cell_type": "code",
   "execution_count": 13,
   "metadata": {},
   "outputs": [
    {
     "data": {
      "text/plain": [
       "0.38544854966506414"
      ]
     },
     "execution_count": 13,
     "metadata": {},
     "output_type": "execute_result"
    }
   ],
   "source": [
    "array[1].sum()"
   ]
  },
  {
   "cell_type": "markdown",
   "metadata": {},
   "source": [
    "#### 11) Compute the sum of the elements in all lines the keword argument \"axis\" "
   ]
  },
  {
   "cell_type": "code",
   "execution_count": 14,
   "metadata": {},
   "outputs": [
    {
     "data": {
      "text/plain": [
       "array([-0.20285793, -1.18042116, -0.92733459,  1.53345772,  1.01355521])"
      ]
     },
     "execution_count": 14,
     "metadata": {},
     "output_type": "execute_result"
    }
   ],
   "source": [
    "array.sum(axis=0)"
   ]
  },
  {
   "cell_type": "markdown",
   "metadata": {},
   "source": [
    "#### 13) Compute the sum of all elements in the array, with **numpy.sum()**"
   ]
  },
  {
   "cell_type": "code",
   "execution_count": 16,
   "metadata": {},
   "outputs": [
    {
     "data": {
      "text/plain": [
       "0.23639925296173914"
      ]
     },
     "execution_count": 16,
     "metadata": {},
     "output_type": "execute_result"
    }
   ],
   "source": [
    "np.sum(array)"
   ]
  },
  {
   "cell_type": "markdown",
   "metadata": {},
   "source": [
    "#### 14) Check if all entries are positive, with numpy.all()\n",
    "\n",
    "https://numpy.org/doc/stable/reference/generated/numpy.all.html"
   ]
  },
  {
   "cell_type": "code",
   "execution_count": 15,
   "metadata": {},
   "outputs": [
    {
     "data": {
      "text/plain": [
       "False"
      ]
     },
     "execution_count": 15,
     "metadata": {},
     "output_type": "execute_result"
    }
   ],
   "source": [
    "(array >= 0).all()"
   ]
  },
  {
   "cell_type": "code",
   "execution_count": null,
   "metadata": {},
   "outputs": [],
   "source": []
  }
 ],
 "metadata": {
  "kernelspec": {
   "display_name": "Python 3 (ipykernel)",
   "language": "python",
   "name": "python3"
  },
  "language_info": {
   "codemirror_mode": {
    "name": "ipython",
    "version": 3
   },
   "file_extension": ".py",
   "mimetype": "text/x-python",
   "name": "python",
   "nbconvert_exporter": "python",
   "pygments_lexer": "ipython3",
   "version": "3.11.7"
  }
 },
 "nbformat": 4,
 "nbformat_minor": 4
}
