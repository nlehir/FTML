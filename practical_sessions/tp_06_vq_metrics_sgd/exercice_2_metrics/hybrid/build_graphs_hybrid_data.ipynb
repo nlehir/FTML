{
 "cells": [
  {
   "cell_type": "code",
   "execution_count": null,
   "metadata": {},
   "outputs": [],
   "source": [
    "import math\n",
    "import os\n",
    "\n",
    "import matplotlib.pyplot as plt\n",
    "import numpy as np\n",
    "import pandas as pd\n",
    "import pylab as pl\n",
    "from graphviz import Graph\n",
    "from IPython import display"
   ]
  },
  {
   "cell_type": "code",
   "execution_count": null,
   "metadata": {},
   "outputs": [],
   "source": [
    "dataframe = pd.read_csv(\"hybrid_data.csv\")"
   ]
  },
  {
   "cell_type": "code",
   "execution_count": null,
   "metadata": {},
   "outputs": [],
   "source": [
    "dataframe"
   ]
  },
  {
   "cell_type": "code",
   "execution_count": null,
   "metadata": {},
   "outputs": [],
   "source": [
    "nb_players = len(dataframe.index)\n",
    "print(nb_players)"
   ]
  },
  {
   "cell_type": "code",
   "execution_count": null,
   "metadata": {},
   "outputs": [],
   "source": [
    "print(dataframe.info())"
   ]
  },
  {
   "cell_type": "code",
   "execution_count": null,
   "metadata": {},
   "outputs": [],
   "source": [
    "print(dataframe.columns)"
   ]
  },
  {
   "cell_type": "code",
   "execution_count": null,
   "metadata": {},
   "outputs": [],
   "source": [
    "print(dataframe.head(10))"
   ]
  },
  {
   "cell_type": "code",
   "execution_count": null,
   "metadata": {},
   "outputs": [],
   "source": [
    "player_id = 1\n",
    "print(f\"---\\nall information on player {player_id}\\n---\")\n",
    "print(dataframe.loc[player_id])"
   ]
  },
  {
   "cell_type": "code",
   "execution_count": 209,
   "metadata": {},
   "outputs": [],
   "source": [
    "def compute_dissimilarity(player_1_id, player_2_id):\n",
    "    \"\"\"\n",
    "    Compute  dissimilarity betwwen two players\n",
    "    based on their id.\n",
    "\n",
    "    The meal is not a quantitative attribute.\n",
    "    It is called a categorical variable.\n",
    "    We must handle it differently than quantitative\n",
    "    attributes.\n",
    "\n",
    "    EDIT THIS FUNCTION\n",
    "    \"\"\"\n",
    "    dissimilarity = 2000\n",
    "    return dissimilarity"
   ]
  },
  {
   "cell_type": "code",
   "execution_count": null,
   "metadata": {},
   "outputs": [],
   "source": [
    "# build a dissimilarity matrix\n",
    "dissimilarity_matrix = np.zeros((nb_players, nb_players))\n",
    "print(\"compute dissimilarities\")\n",
    "for player_1_id in range(nb_players):\n",
    "    for player_2_id in range(nb_players):\n",
    "        dissimilarity = compute_dissimilarity(player_1_id, player_2_id)\n",
    "        dissimilarity_matrix[player_1_id, player_2_id] = dissimilarity\n",
    "\n",
    "# print(\"dissimilarity matrix\")"
   ]
  },
  {
   "cell_type": "code",
   "execution_count": null,
   "metadata": {},
   "outputs": [],
   "source": [
    "dissimilarity_matrix"
   ]
  },
  {
   "cell_type": "code",
   "execution_count": null,
   "metadata": {},
   "outputs": [],
   "source": [
    "mean_dissimilarity = dissimilarity_matrix.mean()"
   ]
  },
  {
   "cell_type": "code",
   "execution_count": null,
   "metadata": {},
   "outputs": [],
   "source": [
    "THRESHOLD = 1000\n",
    "# build a graph from the dissimilarity\n",
    "dot = Graph(comment=\"Graph created from complex data\", strict=True)\n",
    "for player_id in range(nb_players):\n",
    "    player_name = dataframe.loc[player_id][0]\n",
    "    dot.node(player_name)\n",
    "\n",
    "for player_1_id in range(nb_players):\n",
    "    # we use an undirected graph so we do not need\n",
    "    # to take the potential reciprocal edge\n",
    "    # into account\n",
    "    for player_2_id in range(player_1_id + 1, nb_players):\n",
    "        player_1_name = dataframe.loc[player_1_id][0]\n",
    "        player_2_name = dataframe.loc[player_2_id][0]\n",
    "\n",
    "        if dissimilarity_matrix[player_1_id, player_2_id] < THRESHOLD:\n",
    "            dot.edge(\n",
    "                player_1_name, player_2_name, color=\"darkolivegreen4\", penwidth=\"1.1\"\n",
    "            )\n",
    "\n",
    "# visualize the graph\n",
    "# dot.attr(label=f\"threshold {threshold:.2f}\", fontsize='20')\n",
    "fig_name = f\"complex_data_{c_note}_{c_speed}_{c_meal}_{c_nat}_{c_world_cups}_th_{THRESHOLD:.2E}\"\n",
    "fig_name = fig_name.replace(\".\", \"_\")\n",
    "graph_name = os.path.join(\"images\", fig_name)\n",
    "dot.render(graph_name)"
   ]
  },
  {
   "cell_type": "code",
   "execution_count": null,
   "metadata": {},
   "outputs": [],
   "source": [
    "dot"
   ]
  },
  {
   "cell_type": "code",
   "execution_count": null,
   "metadata": {},
   "outputs": [],
   "source": []
  }
 ],
 "metadata": {
  "kernelspec": {
   "display_name": "Python 3 (ipykernel)",
   "language": "python",
   "name": "python3"
  },
  "language_info": {
   "codemirror_mode": {
    "name": "ipython",
    "version": 3
   },
   "file_extension": ".py",
   "mimetype": "text/x-python",
   "name": "python",
   "nbconvert_exporter": "python",
   "pygments_lexer": "ipython3",
   "version": "3.11.0"
  }
 },
 "nbformat": 4,
 "nbformat_minor": 4
}
